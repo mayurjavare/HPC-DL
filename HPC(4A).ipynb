{
  "nbformat": 4,
  "nbformat_minor": 0,
  "metadata": {
    "colab": {
      "provenance": [],
      "authorship_tag": "ABX9TyOsGYDb5hXGwUVXbMjmZ60d",
      "include_colab_link": true
    },
    "kernelspec": {
      "name": "python3",
      "display_name": "Python 3"
    },
    "language_info": {
      "name": "python"
    }
  },
  "cells": [
    {
      "cell_type": "markdown",
      "metadata": {
        "id": "view-in-github",
        "colab_type": "text"
      },
      "source": [
        "<a href=\"https://colab.research.google.com/github/mayurjavare/HPC-DL/blob/main/HPC(4A).ipynb\" target=\"_parent\"><img src=\"https://colab.research.google.com/assets/colab-badge.svg\" alt=\"Open In Colab\"/></a>"
      ]
    },
    {
      "cell_type": "code",
      "execution_count": 1,
      "metadata": {
        "colab": {
          "base_uri": "https://localhost:8080/"
        },
        "id": "f5G65beiFaKW",
        "outputId": "916e7e6f-422b-4b07-86b9-dc3deb9ce69f"
      },
      "outputs": [
        {
          "output_type": "stream",
          "name": "stdout",
          "text": [
            "Collecting git+https://github.com/andreinechaev/nvcc4jupyter.git\n",
            "  Cloning https://github.com/andreinechaev/nvcc4jupyter.git to /tmp/pip-req-build-_rah8y_r\n",
            "  Running command git clone --filter=blob:none --quiet https://github.com/andreinechaev/nvcc4jupyter.git /tmp/pip-req-build-_rah8y_r\n",
            "  Resolved https://github.com/andreinechaev/nvcc4jupyter.git to commit 5741c522547756ac4bb7a16df32106a15efb8a57\n",
            "  Installing build dependencies ... \u001b[?25l\u001b[?25hdone\n",
            "  Getting requirements to build wheel ... \u001b[?25l\u001b[?25hdone\n",
            "  Preparing metadata (pyproject.toml) ... \u001b[?25l\u001b[?25hdone\n",
            "Building wheels for collected packages: nvcc4jupyter\n",
            "  Building wheel for nvcc4jupyter (pyproject.toml) ... \u001b[?25l\u001b[?25hdone\n",
            "  Created wheel for nvcc4jupyter: filename=nvcc4jupyter-1.2.1-py3-none-any.whl size=10741 sha256=1c43b610d84440f376c57bb0b3d20f87e2433fdb6f06eb98d5fd7c81c461a971\n",
            "  Stored in directory: /tmp/pip-ephem-wheel-cache-xeee78lc/wheels/a8/b9/18/23f8ef71ceb0f63297dd1903aedd067e6243a68ea756d6feea\n",
            "Successfully built nvcc4jupyter\n",
            "Installing collected packages: nvcc4jupyter\n",
            "Successfully installed nvcc4jupyter-1.2.1\n"
          ]
        }
      ],
      "source": [
        "!pip install git+https://github.com/andreinechaev/nvcc4jupyter.git"
      ]
    },
    {
      "cell_type": "code",
      "source": [
        "!nvcc --version"
      ],
      "metadata": {
        "colab": {
          "base_uri": "https://localhost:8080/"
        },
        "id": "ewGOSV-zFcJ9",
        "outputId": "6ee9cb12-7b47-4079-caf2-9c71c6a3026c"
      },
      "execution_count": 2,
      "outputs": [
        {
          "output_type": "stream",
          "name": "stdout",
          "text": [
            "nvcc: NVIDIA (R) Cuda compiler driver\n",
            "Copyright (c) 2005-2023 NVIDIA Corporation\n",
            "Built on Tue_Aug_15_22:02:13_PDT_2023\n",
            "Cuda compilation tools, release 12.2, V12.2.140\n",
            "Build cuda_12.2.r12.2/compiler.33191640_0\n"
          ]
        }
      ]
    },
    {
      "cell_type": "code",
      "source": [
        "pip install nvcc4jupyter"
      ],
      "metadata": {
        "colab": {
          "base_uri": "https://localhost:8080/"
        },
        "id": "kMQf-ybmFpMS",
        "outputId": "7a849bcb-96f4-4047-e8c2-beec8d3598ad"
      },
      "execution_count": 3,
      "outputs": [
        {
          "output_type": "stream",
          "name": "stdout",
          "text": [
            "Requirement already satisfied: nvcc4jupyter in /usr/local/lib/python3.10/dist-packages (1.2.1)\n"
          ]
        }
      ]
    },
    {
      "cell_type": "code",
      "source": [
        "%load_ext nvcc4jupyter"
      ],
      "metadata": {
        "colab": {
          "base_uri": "https://localhost:8080/"
        },
        "id": "0aV0HMrAFsCq",
        "outputId": "90d7658c-1109-4c4a-8979-527783f809b1"
      },
      "execution_count": 4,
      "outputs": [
        {
          "output_type": "stream",
          "name": "stdout",
          "text": [
            "Detected platform \"Colab\". Running its setup...\n",
            "Source files will be saved in \"/tmp/tmp7ji5zy2e\".\n"
          ]
        }
      ]
    },
    {
      "cell_type": "code",
      "source": [
        "%%cuda\n",
        "\n",
        "#include <stdio.h>\n",
        "#include <math.h>\n",
        "\n",
        "#define HANDLE_ERROR( err ) ( HandleError( err, __FILE__, __LINE__ ) )\n",
        "\n",
        "static void HandleError( cudaError_t err, const char *file, int line )\n",
        "{\n",
        "    if (err != cudaSuccess)\n",
        "      {\n",
        "        printf( \"%s in %s at line %d\\n\", cudaGetErrorString( err ),\n",
        "                file, line );\n",
        "        exit( EXIT_FAILURE );\n",
        "    }\n",
        "}\n",
        "\n",
        "const short N = 500 ;\n",
        "\n",
        "__global__ void Vector_Addition ( const int *dev_a , const int *dev_b , int *dev_c)\n",
        "{\n",
        "      unsigned short tid = threadIdx.x ;\n",
        "\n",
        "      if ( tid < N )\n",
        "            dev_c [tid] = dev_a[tid] + dev_b[tid] ;\n",
        "\n",
        "}\n",
        "\n",
        "\n",
        "int main (void)\n",
        "{\n",
        "      int Host_a[N], Host_b[N], Host_c[N];\n",
        "\n",
        "\n",
        "      int *dev_a , *dev_b, *dev_c ;\n",
        "\n",
        "\n",
        "      HANDLE_ERROR ( cudaMalloc((void **)&dev_a , N*sizeof(int) ) );\n",
        "      HANDLE_ERROR ( cudaMalloc((void **)&dev_b , N*sizeof(int) ) );\n",
        "      HANDLE_ERROR ( cudaMalloc((void **)&dev_c , N*sizeof(int) ) );\n",
        "\n",
        "\n",
        "      for ( int i = 0; i <N ; i++ )\n",
        "      {\n",
        "            Host_a[i] = i ;\n",
        "            Host_b[i] = i*i ;\n",
        "      }\n",
        "\n",
        "      HANDLE_ERROR (cudaMemcpy (dev_a , Host_a , N*sizeof(int) , cudaMemcpyHostToDevice));\n",
        "      HANDLE_ERROR (cudaMemcpy (dev_b , Host_b , N*sizeof(int) , cudaMemcpyHostToDevice));\n",
        "\n",
        "      Vector_Addition <<< 1, N  >>> (dev_a , dev_b , dev_c ) ;\n",
        "\n",
        "      HANDLE_ERROR (cudaMemcpy(Host_c , dev_c , N*sizeof(int) , cudaMemcpyDeviceToHost));\n",
        "\n",
        "      for ( int i = 0; i<N; i++ )\n",
        "                  printf (\"%d + %d = %d\\n\", Host_a[i] , Host_b[i] , Host_c[i] ) ;\n",
        "\n",
        "      cudaFree (dev_a) ;\n",
        "      cudaFree (dev_b) ;\n",
        "      cudaFree (dev_c) ;\n",
        "\n",
        "      system(\"pause\");\n",
        "      return 0 ;\n",
        "\n",
        "}"
      ],
      "metadata": {
        "colab": {
          "base_uri": "https://localhost:8080/"
        },
        "id": "cHlOJIlZFumC",
        "outputId": "a3373bb4-929f-4e09-896f-06b584ddc369"
      },
      "execution_count": 6,
      "outputs": [
        {
          "output_type": "stream",
          "name": "stdout",
          "text": [
            "CUDA driver version is insufficient for CUDA runtime version in /tmp/tmp7ji5zy2e/f422996a-3d3b-43d7-945a-5f303aa7eea2/single_file.cu at line 37\n",
            "\n"
          ]
        }
      ]
    }
  ]
}