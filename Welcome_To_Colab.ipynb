{
  "cells": [
    {
      "cell_type": "markdown",
      "metadata": {
        "id": "view-in-github",
        "colab_type": "text"
      },
      "source": [
        "<a href=\"https://colab.research.google.com/github/mayurjavare/HPC-DL/blob/main/Welcome_To_Colab.ipynb\" target=\"_parent\"><img src=\"https://colab.research.google.com/assets/colab-badge.svg\" alt=\"Open In Colab\"/></a>"
      ]
    },
    {
      "cell_type": "code",
      "source": [
        "import tensorflow as tf\n",
        "from tensorflow.keras.datasets import boston_housing\n",
        "from sklearn import preprocessing"
      ],
      "metadata": {
        "id": "44oAtvB_07l6"
      },
      "execution_count": 1,
      "outputs": []
    },
    {
      "cell_type": "code",
      "source": [
        "(train_x,train_y),(test_x,test_y) = boston_housing.load_data()"
      ],
      "metadata": {
        "colab": {
          "base_uri": "https://localhost:8080/"
        },
        "id": "9dP0cOAT1FRk",
        "outputId": "546cce50-0d35-46f2-bb72-746902030c22"
      },
      "execution_count": 2,
      "outputs": [
        {
          "output_type": "stream",
          "name": "stdout",
          "text": [
            "Downloading data from https://storage.googleapis.com/tensorflow/tf-keras-datasets/boston_housing.npz\n",
            "57026/57026 [==============================] - 0s 0us/step\n"
          ]
        }
      ]
    },
    {
      "cell_type": "code",
      "source": [
        "print(\"train shape :\",train_x.shape)\n",
        "print(\"Test shape :\",test_x.shape)\n",
        "print(\"Actual Train Output\",train_y.shape)\n",
        "print(\"Actual Test Output\",test_y.shape)\n"
      ],
      "metadata": {
        "colab": {
          "base_uri": "https://localhost:8080/"
        },
        "id": "rzrn-kM717Bn",
        "outputId": "e3fff8b8-6d71-4b39-d989-2a6121f51151"
      },
      "execution_count": 3,
      "outputs": [
        {
          "output_type": "stream",
          "name": "stdout",
          "text": [
            "train shape : (404, 13)\n",
            "Test shape : (102, 13)\n",
            "Actual Train Output (404,)\n",
            "Actual Test Output (102,)\n"
          ]
        }
      ]
    },
    {
      "cell_type": "code",
      "source": [
        "train_x"
      ],
      "metadata": {
        "colab": {
          "base_uri": "https://localhost:8080/"
        },
        "id": "UCpGavBZ1-S1",
        "outputId": "6559244a-2d38-4e82-c365-f7507857f62a"
      },
      "execution_count": 4,
      "outputs": [
        {
          "output_type": "execute_result",
          "data": {
            "text/plain": [
              "array([[1.23247e+00, 0.00000e+00, 8.14000e+00, ..., 2.10000e+01,\n",
              "        3.96900e+02, 1.87200e+01],\n",
              "       [2.17700e-02, 8.25000e+01, 2.03000e+00, ..., 1.47000e+01,\n",
              "        3.95380e+02, 3.11000e+00],\n",
              "       [4.89822e+00, 0.00000e+00, 1.81000e+01, ..., 2.02000e+01,\n",
              "        3.75520e+02, 3.26000e+00],\n",
              "       ...,\n",
              "       [3.46600e-02, 3.50000e+01, 6.06000e+00, ..., 1.69000e+01,\n",
              "        3.62250e+02, 7.83000e+00],\n",
              "       [2.14918e+00, 0.00000e+00, 1.95800e+01, ..., 1.47000e+01,\n",
              "        2.61950e+02, 1.57900e+01],\n",
              "       [1.43900e-02, 6.00000e+01, 2.93000e+00, ..., 1.56000e+01,\n",
              "        3.76700e+02, 4.38000e+00]])"
            ]
          },
          "metadata": {},
          "execution_count": 4
        }
      ]
    },
    {
      "cell_type": "code",
      "source": [
        "train_x[0]"
      ],
      "metadata": {
        "colab": {
          "base_uri": "https://localhost:8080/"
        },
        "id": "PRFyE9mP2A99",
        "outputId": "d3436c78-fd96-4de6-cf28-036a187dcc03"
      },
      "execution_count": 5,
      "outputs": [
        {
          "output_type": "execute_result",
          "data": {
            "text/plain": [
              "array([  1.23247,   0.     ,   8.14   ,   0.     ,   0.538  ,   6.142  ,\n",
              "        91.7    ,   3.9769 ,   4.     , 307.     ,  21.     , 396.9    ,\n",
              "        18.72   ])"
            ]
          },
          "metadata": {},
          "execution_count": 5
        }
      ]
    },
    {
      "cell_type": "code",
      "source": [
        "test_x[0]"
      ],
      "metadata": {
        "colab": {
          "base_uri": "https://localhost:8080/"
        },
        "id": "ONq1hDIT2EIj",
        "outputId": "339f9a2a-caa3-413a-eddb-caa45aaa3092"
      },
      "execution_count": 6,
      "outputs": [
        {
          "output_type": "execute_result",
          "data": {
            "text/plain": [
              "array([ 18.0846,   0.    ,  18.1   ,   0.    ,   0.679 ,   6.434 ,\n",
              "       100.    ,   1.8347,  24.    , 666.    ,  20.2   ,  27.25  ,\n",
              "        29.05  ])"
            ]
          },
          "metadata": {},
          "execution_count": 6
        }
      ]
    },
    {
      "cell_type": "code",
      "source": [
        "train_y[0]"
      ],
      "metadata": {
        "colab": {
          "base_uri": "https://localhost:8080/"
        },
        "id": "kmiYVRUb2HU8",
        "outputId": "f780d052-2a46-480a-abad-529df34b124c"
      },
      "execution_count": 7,
      "outputs": [
        {
          "output_type": "execute_result",
          "data": {
            "text/plain": [
              "15.2"
            ]
          },
          "metadata": {},
          "execution_count": 7
        }
      ]
    },
    {
      "cell_type": "code",
      "source": [
        "train_x=preprocessing.normalize(train_x)\n",
        "test_x=preprocessing.normalize(test_x)"
      ],
      "metadata": {
        "id": "ZS9Vuvot2JiG"
      },
      "execution_count": 8,
      "outputs": []
    },
    {
      "cell_type": "code",
      "source": [
        "train_x[0]"
      ],
      "metadata": {
        "colab": {
          "base_uri": "https://localhost:8080/"
        },
        "id": "JvqoZ3FC2LqW",
        "outputId": "8844e8ac-ee29-4e96-eb03-125b76970cf7"
      },
      "execution_count": 9,
      "outputs": [
        {
          "output_type": "execute_result",
          "data": {
            "text/plain": [
              "array([0.0024119 , 0.        , 0.01592969, 0.        , 0.00105285,\n",
              "       0.01201967, 0.17945359, 0.00778265, 0.00782786, 0.6007879 ,\n",
              "       0.04109624, 0.77671895, 0.03663436])"
            ]
          },
          "metadata": {},
          "execution_count": 9
        }
      ]
    },
    {
      "cell_type": "code",
      "source": [
        "train_y[0]"
      ],
      "metadata": {
        "colab": {
          "base_uri": "https://localhost:8080/"
        },
        "id": "KFDfgb9F2RNl",
        "outputId": "fc500117-d0ce-4e1f-83df-4560bfb640c9"
      },
      "execution_count": 10,
      "outputs": [
        {
          "output_type": "execute_result",
          "data": {
            "text/plain": [
              "15.2"
            ]
          },
          "metadata": {},
          "execution_count": 10
        }
      ]
    },
    {
      "cell_type": "code",
      "source": [
        "from tensorflow.keras.models import Sequential\n",
        "from tensorflow.keras.layers import *\n",
        "def HousePricePredictionModel():\n",
        "  model=Sequential()\n",
        "  model.add(Dense(128,activation='relu',input_shape=(train_x[0].shape)))\n",
        "  model.add(Dense(64,activation='relu'))\n",
        "  model.add(Dense(32,activation='relu'))\n",
        "  model.add(Dense(1))\n",
        "  model.compile(optimizer='rmsprop',loss='mse',metrics=['mae'])\n",
        "  return model\n"
      ],
      "metadata": {
        "id": "11VPjImP2TXK"
      },
      "execution_count": 11,
      "outputs": []
    },
    {
      "cell_type": "code",
      "source": [
        "import numpy as np\n",
        "k=4\n",
        "num_val_samples= len(train_x)\n",
        "num_epochs = 100\n",
        "all_scores = []"
      ],
      "metadata": {
        "id": "IrYO6PQX2VWd"
      },
      "execution_count": 12,
      "outputs": []
    },
    {
      "cell_type": "code",
      "source": [
        "model = HousePricePredictionModel()\n",
        "history=model.fit(x=train_x,y=train_y,epochs= num_epochs,batch_size=1,verbose=1,validation_data=(test_x,test_y))"
      ],
      "metadata": {
        "colab": {
          "base_uri": "https://localhost:8080/"
        },
        "id": "Wzp0vFMs2YnY",
        "outputId": "7d3bd70b-5150-468e-a5ec-32946783360e"
      },
      "execution_count": 13,
      "outputs": [
        {
          "output_type": "stream",
          "name": "stdout",
          "text": [
            "Epoch 1/100\n",
            "404/404 [==============================] - 2s 3ms/step - loss: 121.3319 - mae: 8.0122 - val_loss: 67.6973 - val_mae: 6.0330\n",
            "Epoch 2/100\n",
            "404/404 [==============================] - 1s 3ms/step - loss: 68.1088 - mae: 5.8137 - val_loss: 58.4443 - val_mae: 5.6490\n",
            "Epoch 3/100\n",
            "404/404 [==============================] - 1s 3ms/step - loss: 62.8875 - mae: 5.5251 - val_loss: 64.1468 - val_mae: 5.7026\n",
            "Epoch 4/100\n",
            "404/404 [==============================] - 1s 2ms/step - loss: 61.1859 - mae: 5.4123 - val_loss: 54.5062 - val_mae: 5.5611\n",
            "Epoch 5/100\n",
            "404/404 [==============================] - 1s 2ms/step - loss: 58.9509 - mae: 5.2650 - val_loss: 54.1487 - val_mae: 5.3460\n",
            "Epoch 6/100\n",
            "404/404 [==============================] - 1s 2ms/step - loss: 55.9844 - mae: 5.2321 - val_loss: 70.9070 - val_mae: 5.9279\n",
            "Epoch 7/100\n",
            "404/404 [==============================] - 1s 2ms/step - loss: 54.7506 - mae: 4.9468 - val_loss: 53.6732 - val_mae: 5.5677\n",
            "Epoch 8/100\n",
            "404/404 [==============================] - 1s 2ms/step - loss: 53.7010 - mae: 5.0012 - val_loss: 59.9494 - val_mae: 5.4131\n",
            "Epoch 9/100\n",
            "404/404 [==============================] - 1s 2ms/step - loss: 51.0625 - mae: 4.8584 - val_loss: 54.7579 - val_mae: 5.1731\n",
            "Epoch 10/100\n",
            "404/404 [==============================] - 1s 2ms/step - loss: 49.5053 - mae: 4.7015 - val_loss: 57.5776 - val_mae: 5.2696\n",
            "Epoch 11/100\n",
            "404/404 [==============================] - 1s 3ms/step - loss: 48.1703 - mae: 4.6425 - val_loss: 55.5093 - val_mae: 5.1913\n",
            "Epoch 12/100\n",
            "404/404 [==============================] - 1s 2ms/step - loss: 46.7360 - mae: 4.6449 - val_loss: 43.3620 - val_mae: 4.7630\n",
            "Epoch 13/100\n",
            "404/404 [==============================] - 1s 2ms/step - loss: 43.6262 - mae: 4.5332 - val_loss: 44.2406 - val_mae: 4.5902\n",
            "Epoch 14/100\n",
            "404/404 [==============================] - 1s 2ms/step - loss: 43.0140 - mae: 4.4860 - val_loss: 39.4195 - val_mae: 4.3942\n",
            "Epoch 15/100\n",
            "404/404 [==============================] - 1s 4ms/step - loss: 42.2033 - mae: 4.4899 - val_loss: 38.9056 - val_mae: 4.2876\n",
            "Epoch 16/100\n",
            "404/404 [==============================] - 1s 4ms/step - loss: 40.0253 - mae: 4.3662 - val_loss: 37.5968 - val_mae: 4.3258\n",
            "Epoch 17/100\n",
            "404/404 [==============================] - 1s 2ms/step - loss: 39.7216 - mae: 4.2897 - val_loss: 37.0186 - val_mae: 4.2003\n",
            "Epoch 18/100\n",
            "404/404 [==============================] - 1s 2ms/step - loss: 37.8580 - mae: 4.1725 - val_loss: 37.5259 - val_mae: 4.2013\n",
            "Epoch 19/100\n",
            "404/404 [==============================] - 1s 2ms/step - loss: 37.7965 - mae: 4.2459 - val_loss: 34.0597 - val_mae: 4.2019\n",
            "Epoch 20/100\n",
            "404/404 [==============================] - 1s 2ms/step - loss: 37.2278 - mae: 4.1427 - val_loss: 33.4463 - val_mae: 4.1880\n",
            "Epoch 21/100\n",
            "404/404 [==============================] - 1s 2ms/step - loss: 34.4070 - mae: 4.1334 - val_loss: 31.9456 - val_mae: 4.0069\n",
            "Epoch 22/100\n",
            "404/404 [==============================] - 1s 2ms/step - loss: 34.4819 - mae: 4.1487 - val_loss: 32.6366 - val_mae: 3.9902\n",
            "Epoch 23/100\n",
            "404/404 [==============================] - 1s 2ms/step - loss: 34.8088 - mae: 4.1319 - val_loss: 31.1591 - val_mae: 4.0853\n",
            "Epoch 24/100\n",
            "404/404 [==============================] - 1s 2ms/step - loss: 32.9652 - mae: 3.9793 - val_loss: 33.3864 - val_mae: 4.4325\n",
            "Epoch 25/100\n",
            "404/404 [==============================] - 1s 2ms/step - loss: 32.9113 - mae: 4.1267 - val_loss: 29.9915 - val_mae: 3.9435\n",
            "Epoch 26/100\n",
            "404/404 [==============================] - 1s 2ms/step - loss: 31.8393 - mae: 3.9863 - val_loss: 36.9588 - val_mae: 4.1650\n",
            "Epoch 27/100\n",
            "404/404 [==============================] - 1s 2ms/step - loss: 30.8821 - mae: 3.8959 - val_loss: 28.9154 - val_mae: 3.9520\n",
            "Epoch 28/100\n",
            "404/404 [==============================] - 1s 3ms/step - loss: 29.8486 - mae: 3.8029 - val_loss: 38.5252 - val_mae: 4.3781\n",
            "Epoch 29/100\n",
            "404/404 [==============================] - 2s 4ms/step - loss: 30.9595 - mae: 3.9993 - val_loss: 27.9560 - val_mae: 3.8808\n",
            "Epoch 30/100\n",
            "404/404 [==============================] - 1s 2ms/step - loss: 29.6738 - mae: 3.7975 - val_loss: 35.7852 - val_mae: 4.1515\n",
            "Epoch 31/100\n",
            "404/404 [==============================] - 1s 2ms/step - loss: 29.2944 - mae: 3.7979 - val_loss: 28.4377 - val_mae: 4.0703\n",
            "Epoch 32/100\n",
            "404/404 [==============================] - 1s 2ms/step - loss: 27.5810 - mae: 3.6923 - val_loss: 28.0468 - val_mae: 3.7677\n",
            "Epoch 33/100\n",
            "404/404 [==============================] - 1s 2ms/step - loss: 27.7104 - mae: 3.6553 - val_loss: 26.0635 - val_mae: 3.7046\n",
            "Epoch 34/100\n",
            "404/404 [==============================] - 1s 2ms/step - loss: 27.3212 - mae: 3.7265 - val_loss: 25.3903 - val_mae: 3.7725\n",
            "Epoch 35/100\n",
            "404/404 [==============================] - 1s 2ms/step - loss: 27.0085 - mae: 3.6541 - val_loss: 41.2368 - val_mae: 4.5756\n",
            "Epoch 36/100\n",
            "404/404 [==============================] - 1s 2ms/step - loss: 26.8362 - mae: 3.7044 - val_loss: 25.7534 - val_mae: 3.8757\n",
            "Epoch 37/100\n",
            "404/404 [==============================] - 1s 2ms/step - loss: 25.4284 - mae: 3.7029 - val_loss: 29.9659 - val_mae: 3.8686\n",
            "Epoch 38/100\n",
            "404/404 [==============================] - 1s 2ms/step - loss: 25.8809 - mae: 3.6069 - val_loss: 26.2714 - val_mae: 3.7094\n",
            "Epoch 39/100\n",
            "404/404 [==============================] - 1s 2ms/step - loss: 24.9968 - mae: 3.5877 - val_loss: 32.8520 - val_mae: 4.6541\n",
            "Epoch 40/100\n",
            "404/404 [==============================] - 1s 2ms/step - loss: 22.9769 - mae: 3.5096 - val_loss: 26.1810 - val_mae: 3.8595\n",
            "Epoch 41/100\n",
            "404/404 [==============================] - 1s 3ms/step - loss: 23.5450 - mae: 3.5699 - val_loss: 25.5095 - val_mae: 3.7046\n",
            "Epoch 42/100\n",
            "404/404 [==============================] - 1s 3ms/step - loss: 22.5343 - mae: 3.4672 - val_loss: 27.4025 - val_mae: 3.9208\n",
            "Epoch 43/100\n",
            "404/404 [==============================] - 1s 3ms/step - loss: 23.3643 - mae: 3.5156 - val_loss: 33.8568 - val_mae: 4.0868\n",
            "Epoch 44/100\n",
            "404/404 [==============================] - 1s 2ms/step - loss: 23.1425 - mae: 3.4373 - val_loss: 27.6481 - val_mae: 3.6859\n",
            "Epoch 45/100\n",
            "404/404 [==============================] - 1s 2ms/step - loss: 20.8767 - mae: 3.3576 - val_loss: 26.5136 - val_mae: 3.6647\n",
            "Epoch 46/100\n",
            "404/404 [==============================] - 1s 2ms/step - loss: 21.5011 - mae: 3.3933 - val_loss: 25.4519 - val_mae: 3.7344\n",
            "Epoch 47/100\n",
            "404/404 [==============================] - 1s 2ms/step - loss: 20.6160 - mae: 3.2600 - val_loss: 28.4303 - val_mae: 3.7360\n",
            "Epoch 48/100\n",
            "404/404 [==============================] - 1s 2ms/step - loss: 20.5851 - mae: 3.2516 - val_loss: 27.9928 - val_mae: 3.7196\n",
            "Epoch 49/100\n",
            "404/404 [==============================] - 1s 2ms/step - loss: 20.3591 - mae: 3.3054 - val_loss: 28.6293 - val_mae: 3.9966\n",
            "Epoch 50/100\n",
            "404/404 [==============================] - 1s 2ms/step - loss: 20.2178 - mae: 3.2428 - val_loss: 38.6360 - val_mae: 4.3170\n",
            "Epoch 51/100\n",
            "404/404 [==============================] - 1s 3ms/step - loss: 21.9488 - mae: 3.3742 - val_loss: 33.0930 - val_mae: 4.0325\n",
            "Epoch 52/100\n",
            "404/404 [==============================] - 1s 3ms/step - loss: 19.2762 - mae: 3.1326 - val_loss: 29.0189 - val_mae: 3.7857\n",
            "Epoch 53/100\n",
            "404/404 [==============================] - 1s 2ms/step - loss: 19.3233 - mae: 3.2309 - val_loss: 28.6093 - val_mae: 4.0092\n",
            "Epoch 54/100\n",
            "404/404 [==============================] - 1s 4ms/step - loss: 19.7813 - mae: 3.1922 - val_loss: 33.7122 - val_mae: 4.4293\n",
            "Epoch 55/100\n",
            "404/404 [==============================] - 1s 4ms/step - loss: 19.5792 - mae: 3.2235 - val_loss: 27.8359 - val_mae: 3.9699\n",
            "Epoch 56/100\n",
            "404/404 [==============================] - 1s 2ms/step - loss: 19.7595 - mae: 3.2031 - val_loss: 27.4086 - val_mae: 3.6659\n",
            "Epoch 57/100\n",
            "404/404 [==============================] - 1s 2ms/step - loss: 19.1604 - mae: 3.1284 - val_loss: 27.6872 - val_mae: 3.7186\n",
            "Epoch 58/100\n",
            "404/404 [==============================] - 1s 2ms/step - loss: 19.1023 - mae: 3.0877 - val_loss: 30.3908 - val_mae: 3.9704\n",
            "Epoch 59/100\n",
            "404/404 [==============================] - 1s 2ms/step - loss: 19.6111 - mae: 3.1406 - val_loss: 27.3466 - val_mae: 3.8265\n",
            "Epoch 60/100\n",
            "404/404 [==============================] - 1s 2ms/step - loss: 19.3603 - mae: 3.1693 - val_loss: 38.3363 - val_mae: 4.3054\n",
            "Epoch 61/100\n",
            "404/404 [==============================] - 1s 2ms/step - loss: 18.9614 - mae: 3.2708 - val_loss: 35.4890 - val_mae: 4.6672\n",
            "Epoch 62/100\n",
            "404/404 [==============================] - 1s 2ms/step - loss: 17.7721 - mae: 3.0503 - val_loss: 31.1609 - val_mae: 3.8331\n",
            "Epoch 63/100\n",
            "404/404 [==============================] - 1s 2ms/step - loss: 19.1402 - mae: 3.1077 - val_loss: 29.7750 - val_mae: 3.9367\n",
            "Epoch 64/100\n",
            "404/404 [==============================] - 1s 2ms/step - loss: 19.7037 - mae: 3.1590 - val_loss: 28.5422 - val_mae: 3.6674\n",
            "Epoch 65/100\n",
            "404/404 [==============================] - 1s 2ms/step - loss: 18.6349 - mae: 3.0929 - val_loss: 36.0010 - val_mae: 4.1986\n",
            "Epoch 66/100\n",
            "404/404 [==============================] - 1s 2ms/step - loss: 18.1275 - mae: 3.0294 - val_loss: 29.4211 - val_mae: 3.7231\n",
            "Epoch 67/100\n",
            "404/404 [==============================] - 1s 4ms/step - loss: 19.6013 - mae: 3.2164 - val_loss: 29.0248 - val_mae: 3.6993\n",
            "Epoch 68/100\n",
            "404/404 [==============================] - 2s 4ms/step - loss: 18.0358 - mae: 3.0612 - val_loss: 31.3679 - val_mae: 3.7628\n",
            "Epoch 69/100\n",
            "404/404 [==============================] - 1s 2ms/step - loss: 18.5864 - mae: 3.0867 - val_loss: 30.3009 - val_mae: 3.7374\n",
            "Epoch 70/100\n",
            "404/404 [==============================] - 1s 2ms/step - loss: 18.4796 - mae: 3.0464 - val_loss: 30.9261 - val_mae: 3.8826\n",
            "Epoch 71/100\n",
            "404/404 [==============================] - 1s 2ms/step - loss: 19.1753 - mae: 3.0537 - val_loss: 27.6835 - val_mae: 3.5387\n",
            "Epoch 72/100\n",
            "404/404 [==============================] - 1s 2ms/step - loss: 17.7023 - mae: 2.9778 - val_loss: 38.1858 - val_mae: 4.2628\n",
            "Epoch 73/100\n",
            "404/404 [==============================] - 1s 2ms/step - loss: 16.9264 - mae: 2.9531 - val_loss: 32.0005 - val_mae: 3.7701\n",
            "Epoch 74/100\n",
            "404/404 [==============================] - 1s 2ms/step - loss: 17.7577 - mae: 3.0266 - val_loss: 29.0042 - val_mae: 3.5974\n",
            "Epoch 75/100\n",
            "404/404 [==============================] - 1s 3ms/step - loss: 18.7459 - mae: 3.1200 - val_loss: 31.7891 - val_mae: 3.7709\n",
            "Epoch 76/100\n",
            "404/404 [==============================] - 1s 3ms/step - loss: 18.6520 - mae: 3.0318 - val_loss: 30.3125 - val_mae: 3.7617\n",
            "Epoch 77/100\n",
            "404/404 [==============================] - 1s 2ms/step - loss: 18.0175 - mae: 3.0367 - val_loss: 29.8603 - val_mae: 3.6455\n",
            "Epoch 78/100\n",
            "404/404 [==============================] - 1s 2ms/step - loss: 17.9779 - mae: 3.0073 - val_loss: 34.2095 - val_mae: 4.0885\n",
            "Epoch 79/100\n",
            "404/404 [==============================] - 1s 3ms/step - loss: 17.2615 - mae: 3.0135 - val_loss: 30.0188 - val_mae: 3.7498\n",
            "Epoch 80/100\n",
            "404/404 [==============================] - 1s 3ms/step - loss: 16.0911 - mae: 2.8553 - val_loss: 32.3554 - val_mae: 3.7829\n",
            "Epoch 81/100\n",
            "404/404 [==============================] - 1s 4ms/step - loss: 17.2024 - mae: 2.9954 - val_loss: 26.8571 - val_mae: 3.5819\n",
            "Epoch 82/100\n",
            "404/404 [==============================] - 1s 2ms/step - loss: 16.9229 - mae: 3.0032 - val_loss: 30.0015 - val_mae: 3.7792\n",
            "Epoch 83/100\n",
            "404/404 [==============================] - 1s 2ms/step - loss: 16.1546 - mae: 2.9007 - val_loss: 27.8178 - val_mae: 3.6941\n",
            "Epoch 84/100\n",
            "404/404 [==============================] - 1s 2ms/step - loss: 16.8472 - mae: 2.8832 - val_loss: 30.1027 - val_mae: 3.8728\n",
            "Epoch 85/100\n",
            "404/404 [==============================] - 1s 2ms/step - loss: 18.8896 - mae: 3.0509 - val_loss: 28.7214 - val_mae: 3.6413\n",
            "Epoch 86/100\n",
            "404/404 [==============================] - 1s 3ms/step - loss: 18.1215 - mae: 3.0152 - val_loss: 29.3850 - val_mae: 3.6099\n",
            "Epoch 87/100\n",
            "404/404 [==============================] - 1s 3ms/step - loss: 17.1244 - mae: 3.0305 - val_loss: 33.3678 - val_mae: 4.0132\n",
            "Epoch 88/100\n",
            "404/404 [==============================] - 1s 2ms/step - loss: 17.8010 - mae: 2.9694 - val_loss: 31.3805 - val_mae: 3.7763\n",
            "Epoch 89/100\n",
            "404/404 [==============================] - 1s 2ms/step - loss: 17.0989 - mae: 2.8995 - val_loss: 26.5833 - val_mae: 3.4581\n",
            "Epoch 90/100\n",
            "404/404 [==============================] - 1s 2ms/step - loss: 18.1591 - mae: 3.0530 - val_loss: 36.9423 - val_mae: 4.3954\n",
            "Epoch 91/100\n",
            "404/404 [==============================] - 1s 2ms/step - loss: 15.3039 - mae: 2.9197 - val_loss: 29.8811 - val_mae: 3.7387\n",
            "Epoch 92/100\n",
            "404/404 [==============================] - 1s 3ms/step - loss: 15.1485 - mae: 2.8817 - val_loss: 33.6530 - val_mae: 3.7582\n",
            "Epoch 93/100\n",
            "404/404 [==============================] - 2s 4ms/step - loss: 18.0014 - mae: 3.0207 - val_loss: 30.6673 - val_mae: 3.6948\n",
            "Epoch 94/100\n",
            "404/404 [==============================] - 1s 3ms/step - loss: 17.2208 - mae: 2.9753 - val_loss: 30.7670 - val_mae: 3.7205\n",
            "Epoch 95/100\n",
            "404/404 [==============================] - 1s 2ms/step - loss: 15.5087 - mae: 2.7982 - val_loss: 28.9286 - val_mae: 3.6112\n",
            "Epoch 96/100\n",
            "404/404 [==============================] - 1s 2ms/step - loss: 17.7022 - mae: 2.9141 - val_loss: 27.9021 - val_mae: 3.7762\n",
            "Epoch 97/100\n",
            "404/404 [==============================] - 1s 2ms/step - loss: 17.2402 - mae: 2.8813 - val_loss: 31.5705 - val_mae: 4.0629\n",
            "Epoch 98/100\n",
            "404/404 [==============================] - 1s 2ms/step - loss: 17.4730 - mae: 2.9198 - val_loss: 34.1448 - val_mae: 3.9319\n",
            "Epoch 99/100\n",
            "404/404 [==============================] - 1s 2ms/step - loss: 14.5332 - mae: 2.7261 - val_loss: 28.2263 - val_mae: 3.5935\n",
            "Epoch 100/100\n",
            "404/404 [==============================] - 1s 2ms/step - loss: 16.7461 - mae: 2.8762 - val_loss: 29.4033 - val_mae: 3.6390\n"
          ]
        }
      ]
    },
    {
      "cell_type": "code",
      "source": [
        "test = [[0.02675675, 0.        , 0.02677953, 0.        , 0.0010046 ,\n",
        "        0.00951931, 0.14795322, 0.0027145 , 0.03550877, 0.98536841,\n",
        "        0.02988655, 0.04031725, 0.04298041]]\n",
        "print(\"Actual Output: \", train_y[0])\n",
        "print(\"Predicted Output: \", model.predict(test))"
      ],
      "metadata": {
        "colab": {
          "base_uri": "https://localhost:8080/"
        },
        "id": "UD1ROAbU2aoj",
        "outputId": "5b06d253-b4b1-4ab7-dac3-e7732a5f30d1"
      },
      "execution_count": 14,
      "outputs": [
        {
          "output_type": "stream",
          "name": "stdout",
          "text": [
            "Actual Output:  15.2\n",
            "1/1 [==============================] - 0s 222ms/step\n",
            "Predicted Output:  [[10.647051]]\n"
          ]
        }
      ]
    }
  ],
  "metadata": {
    "colab": {
      "name": "Welcome To Colab",
      "toc_visible": true,
      "provenance": [],
      "include_colab_link": true
    },
    "kernelspec": {
      "display_name": "Python 3",
      "name": "python3"
    }
  },
  "nbformat": 4,
  "nbformat_minor": 0
}