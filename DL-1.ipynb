{
  "cells": [
    {
      "cell_type": "markdown",
      "metadata": {
        "id": "view-in-github",
        "colab_type": "text"
      },
      "source": [
        "<a href=\"https://colab.research.google.com/github/mayurjavare/HPC-DL/blob/main/DL-1.ipynb\" target=\"_parent\"><img src=\"https://colab.research.google.com/assets/colab-badge.svg\" alt=\"Open In Colab\"/></a>"
      ]
    },
    {
      "cell_type": "code",
      "source": [
        "import tensorflow as tf\n",
        "from tensorflow.keras.datasets import boston_housing\n",
        "from sklearn import preprocessing"
      ],
      "metadata": {
        "id": "iHBUaPEV7wXq"
      },
      "execution_count": 15,
      "outputs": []
    },
    {
      "cell_type": "code",
      "source": [
        "(train_x,train_y),(test_x,test_y) = boston_housing.load_data()"
      ],
      "metadata": {
        "id": "X5txoIHq7xD7"
      },
      "execution_count": 16,
      "outputs": []
    },
    {
      "cell_type": "code",
      "source": [
        "print(\"train shape :\",train_x.shape)\n",
        "print(\"Test shape :\",test_x.shape)\n",
        "print(\"Actual Train Output\",train_y.shape)\n",
        "print(\"Actual Test Output\",test_y.shape)\n"
      ],
      "metadata": {
        "id": "qR4sf6jp7ykq",
        "outputId": "7d0846d9-43da-4644-aa07-74241e1b51bb",
        "colab": {
          "base_uri": "https://localhost:8080/"
        }
      },
      "execution_count": 17,
      "outputs": [
        {
          "output_type": "stream",
          "name": "stdout",
          "text": [
            "train shape : (404, 13)\n",
            "Test shape : (102, 13)\n",
            "Actual Train Output (404,)\n",
            "Actual Test Output (102,)\n"
          ]
        }
      ]
    },
    {
      "cell_type": "code",
      "source": [
        "train_x"
      ],
      "metadata": {
        "id": "m-IPAcT07z7P",
        "outputId": "fa24083e-2965-45dd-c9b4-aea2aa37d23c",
        "colab": {
          "base_uri": "https://localhost:8080/"
        }
      },
      "execution_count": 18,
      "outputs": [
        {
          "output_type": "execute_result",
          "data": {
            "text/plain": [
              "array([[1.23247e+00, 0.00000e+00, 8.14000e+00, ..., 2.10000e+01,\n",
              "        3.96900e+02, 1.87200e+01],\n",
              "       [2.17700e-02, 8.25000e+01, 2.03000e+00, ..., 1.47000e+01,\n",
              "        3.95380e+02, 3.11000e+00],\n",
              "       [4.89822e+00, 0.00000e+00, 1.81000e+01, ..., 2.02000e+01,\n",
              "        3.75520e+02, 3.26000e+00],\n",
              "       ...,\n",
              "       [3.46600e-02, 3.50000e+01, 6.06000e+00, ..., 1.69000e+01,\n",
              "        3.62250e+02, 7.83000e+00],\n",
              "       [2.14918e+00, 0.00000e+00, 1.95800e+01, ..., 1.47000e+01,\n",
              "        2.61950e+02, 1.57900e+01],\n",
              "       [1.43900e-02, 6.00000e+01, 2.93000e+00, ..., 1.56000e+01,\n",
              "        3.76700e+02, 4.38000e+00]])"
            ]
          },
          "metadata": {},
          "execution_count": 18
        }
      ]
    },
    {
      "cell_type": "code",
      "source": [
        "train_x[0]"
      ],
      "metadata": {
        "id": "3GoSBLYY71aB",
        "outputId": "bbf33d1e-b8f5-4877-ff6b-6b49aebb4836",
        "colab": {
          "base_uri": "https://localhost:8080/"
        }
      },
      "execution_count": 19,
      "outputs": [
        {
          "output_type": "execute_result",
          "data": {
            "text/plain": [
              "array([  1.23247,   0.     ,   8.14   ,   0.     ,   0.538  ,   6.142  ,\n",
              "        91.7    ,   3.9769 ,   4.     , 307.     ,  21.     , 396.9    ,\n",
              "        18.72   ])"
            ]
          },
          "metadata": {},
          "execution_count": 19
        }
      ]
    },
    {
      "cell_type": "code",
      "source": [
        "test_x[0]"
      ],
      "metadata": {
        "id": "otUPl9L773XV",
        "outputId": "0376532f-cbd3-41c4-b621-a0d9c479a860",
        "colab": {
          "base_uri": "https://localhost:8080/"
        }
      },
      "execution_count": 20,
      "outputs": [
        {
          "output_type": "execute_result",
          "data": {
            "text/plain": [
              "array([ 18.0846,   0.    ,  18.1   ,   0.    ,   0.679 ,   6.434 ,\n",
              "       100.    ,   1.8347,  24.    , 666.    ,  20.2   ,  27.25  ,\n",
              "        29.05  ])"
            ]
          },
          "metadata": {},
          "execution_count": 20
        }
      ]
    },
    {
      "cell_type": "code",
      "source": [
        "train_y[0]"
      ],
      "metadata": {
        "id": "5NhlnX2i75JC",
        "outputId": "0149b39b-f884-4dd2-ff14-12199cc4d564",
        "colab": {
          "base_uri": "https://localhost:8080/"
        }
      },
      "execution_count": 21,
      "outputs": [
        {
          "output_type": "execute_result",
          "data": {
            "text/plain": [
              "15.2"
            ]
          },
          "metadata": {},
          "execution_count": 21
        }
      ]
    },
    {
      "cell_type": "code",
      "source": [
        "train_x=preprocessing.normalize(train_x)\n",
        "test_x=preprocessing.normalize(test_x)"
      ],
      "metadata": {
        "id": "-oLmA_2676xc"
      },
      "execution_count": 22,
      "outputs": []
    },
    {
      "cell_type": "code",
      "source": [
        "train_x[0]"
      ],
      "metadata": {
        "id": "L82CQauO78fA",
        "outputId": "f601c95c-2b49-4280-dceb-c60e4acf5b59",
        "colab": {
          "base_uri": "https://localhost:8080/"
        }
      },
      "execution_count": 23,
      "outputs": [
        {
          "output_type": "execute_result",
          "data": {
            "text/plain": [
              "array([0.0024119 , 0.        , 0.01592969, 0.        , 0.00105285,\n",
              "       0.01201967, 0.17945359, 0.00778265, 0.00782786, 0.6007879 ,\n",
              "       0.04109624, 0.77671895, 0.03663436])"
            ]
          },
          "metadata": {},
          "execution_count": 23
        }
      ]
    },
    {
      "cell_type": "code",
      "source": [
        "train_y[0]"
      ],
      "metadata": {
        "id": "DOWqTUNq7-Zo",
        "outputId": "9a6dd7b1-3163-4d46-a64f-982460df94c6",
        "colab": {
          "base_uri": "https://localhost:8080/"
        }
      },
      "execution_count": 24,
      "outputs": [
        {
          "output_type": "execute_result",
          "data": {
            "text/plain": [
              "15.2"
            ]
          },
          "metadata": {},
          "execution_count": 24
        }
      ]
    },
    {
      "cell_type": "code",
      "source": [
        "from tensorflow.keras.models import Sequential\n",
        "from tensorflow.keras.layers import *\n",
        "def HousePricePredictionModel():\n",
        "  model=Sequential()\n",
        "  model.add(Dense(128,activation='relu',input_shape=(train_x[0].shape)))\n",
        "  model.add(Dense(64,activation='relu'))\n",
        "  model.add(Dense(32,activation='relu'))\n",
        "  model.add(Dense(1))\n",
        "  model.compile(optimizer='rmsprop',loss='mse',metrics=['mae'])\n",
        "  return model\n"
      ],
      "metadata": {
        "id": "VgpTGIqD7_5d"
      },
      "execution_count": 25,
      "outputs": []
    },
    {
      "cell_type": "code",
      "source": [
        "import numpy as np\n",
        "k=4\n",
        "num_val_samples= len(train_x)\n",
        "num_epochs = 100\n",
        "all_scores = []"
      ],
      "metadata": {
        "id": "kzbYcv9H8Bm0"
      },
      "execution_count": 26,
      "outputs": []
    },
    {
      "cell_type": "code",
      "source": [
        "model = HousePricePredictionModel()\n",
        "history=model.fit(x=train_x,y=train_y,epochs= num_epochs,batch_size=1,verbose=1,validation_data=(test_x,test_y))"
      ],
      "metadata": {
        "id": "pY1yUIqR8Dvh",
        "outputId": "90eb178f-5f8c-4bcc-fc83-8c666ee02ab9",
        "colab": {
          "base_uri": "https://localhost:8080/"
        }
      },
      "execution_count": 27,
      "outputs": [
        {
          "output_type": "stream",
          "name": "stdout",
          "text": [
            "Epoch 1/100\n",
            "404/404 [==============================] - 2s 4ms/step - loss: 133.4988 - mae: 8.3471 - val_loss: 80.8870 - val_mae: 6.4123\n",
            "Epoch 2/100\n",
            "404/404 [==============================] - 2s 4ms/step - loss: 67.9352 - mae: 5.7426 - val_loss: 59.1340 - val_mae: 5.6045\n",
            "Epoch 3/100\n",
            "404/404 [==============================] - 2s 4ms/step - loss: 62.8479 - mae: 5.5316 - val_loss: 56.1758 - val_mae: 5.5017\n",
            "Epoch 4/100\n",
            "404/404 [==============================] - 1s 3ms/step - loss: 61.4188 - mae: 5.4087 - val_loss: 54.6430 - val_mae: 5.4198\n",
            "Epoch 5/100\n",
            "404/404 [==============================] - 3s 8ms/step - loss: 57.9257 - mae: 5.3203 - val_loss: 57.5925 - val_mae: 5.3890\n",
            "Epoch 6/100\n",
            "404/404 [==============================] - 2s 4ms/step - loss: 56.4364 - mae: 5.1343 - val_loss: 57.4443 - val_mae: 5.3304\n",
            "Epoch 7/100\n",
            "404/404 [==============================] - 1s 3ms/step - loss: 53.5641 - mae: 4.9746 - val_loss: 53.6726 - val_mae: 5.1664\n",
            "Epoch 8/100\n",
            "404/404 [==============================] - 1s 3ms/step - loss: 53.4782 - mae: 4.9870 - val_loss: 56.0181 - val_mae: 5.2374\n",
            "Epoch 9/100\n",
            "404/404 [==============================] - 1s 3ms/step - loss: 51.0701 - mae: 4.9000 - val_loss: 48.2901 - val_mae: 4.9191\n",
            "Epoch 10/100\n",
            "404/404 [==============================] - 2s 4ms/step - loss: 49.4962 - mae: 4.7536 - val_loss: 49.1907 - val_mae: 4.8766\n",
            "Epoch 11/100\n",
            "404/404 [==============================] - 1s 3ms/step - loss: 48.7061 - mae: 4.6823 - val_loss: 45.4818 - val_mae: 4.7061\n",
            "Epoch 12/100\n",
            "404/404 [==============================] - 1s 3ms/step - loss: 46.6490 - mae: 4.6192 - val_loss: 63.2514 - val_mae: 6.6346\n",
            "Epoch 13/100\n",
            "404/404 [==============================] - 1s 3ms/step - loss: 45.7346 - mae: 4.6258 - val_loss: 44.5390 - val_mae: 4.5916\n",
            "Epoch 14/100\n",
            "404/404 [==============================] - 2s 5ms/step - loss: 43.4930 - mae: 4.5323 - val_loss: 40.6410 - val_mae: 4.4412\n",
            "Epoch 15/100\n",
            "404/404 [==============================] - 2s 4ms/step - loss: 41.9951 - mae: 4.5093 - val_loss: 56.1518 - val_mae: 5.2911\n",
            "Epoch 16/100\n",
            "404/404 [==============================] - 1s 3ms/step - loss: 41.5801 - mae: 4.5044 - val_loss: 60.0587 - val_mae: 5.4917\n",
            "Epoch 17/100\n",
            "404/404 [==============================] - 1s 3ms/step - loss: 40.1935 - mae: 4.3469 - val_loss: 36.7462 - val_mae: 4.2294\n",
            "Epoch 18/100\n",
            "404/404 [==============================] - 1s 3ms/step - loss: 40.0858 - mae: 4.3624 - val_loss: 38.2794 - val_mae: 4.2454\n",
            "Epoch 19/100\n",
            "404/404 [==============================] - 1s 3ms/step - loss: 37.7942 - mae: 4.3211 - val_loss: 41.5531 - val_mae: 4.4339\n",
            "Epoch 20/100\n",
            "404/404 [==============================] - 1s 3ms/step - loss: 38.4964 - mae: 4.3085 - val_loss: 34.2144 - val_mae: 4.2095\n",
            "Epoch 21/100\n",
            "404/404 [==============================] - 1s 3ms/step - loss: 36.9827 - mae: 4.3598 - val_loss: 36.0423 - val_mae: 4.1038\n",
            "Epoch 22/100\n",
            "404/404 [==============================] - 1s 3ms/step - loss: 35.7078 - mae: 4.1603 - val_loss: 33.0886 - val_mae: 4.2345\n",
            "Epoch 23/100\n",
            "404/404 [==============================] - 1s 3ms/step - loss: 36.1462 - mae: 4.2289 - val_loss: 40.7926 - val_mae: 4.3472\n",
            "Epoch 24/100\n",
            "404/404 [==============================] - 2s 5ms/step - loss: 35.3699 - mae: 4.2607 - val_loss: 34.2144 - val_mae: 4.0291\n",
            "Epoch 25/100\n",
            "404/404 [==============================] - 1s 4ms/step - loss: 34.9873 - mae: 4.1321 - val_loss: 31.3140 - val_mae: 4.0705\n",
            "Epoch 26/100\n",
            "404/404 [==============================] - 1s 3ms/step - loss: 34.5092 - mae: 4.2427 - val_loss: 42.5347 - val_mae: 4.4950\n",
            "Epoch 27/100\n",
            "404/404 [==============================] - 1s 3ms/step - loss: 34.0793 - mae: 4.0537 - val_loss: 30.4407 - val_mae: 4.0772\n",
            "Epoch 28/100\n",
            "404/404 [==============================] - 1s 3ms/step - loss: 33.9948 - mae: 4.0950 - val_loss: 30.9726 - val_mae: 3.9005\n",
            "Epoch 29/100\n",
            "404/404 [==============================] - 1s 3ms/step - loss: 32.8240 - mae: 4.0992 - val_loss: 29.9432 - val_mae: 4.0206\n",
            "Epoch 30/100\n",
            "404/404 [==============================] - 1s 3ms/step - loss: 32.8958 - mae: 4.1082 - val_loss: 35.4041 - val_mae: 4.1411\n",
            "Epoch 31/100\n",
            "404/404 [==============================] - 1s 3ms/step - loss: 32.0792 - mae: 4.0534 - val_loss: 29.3241 - val_mae: 3.8612\n",
            "Epoch 32/100\n",
            "404/404 [==============================] - 1s 3ms/step - loss: 30.6807 - mae: 3.9289 - val_loss: 39.4219 - val_mae: 4.3939\n",
            "Epoch 33/100\n",
            "404/404 [==============================] - 2s 4ms/step - loss: 31.6520 - mae: 3.9252 - val_loss: 28.5490 - val_mae: 4.1046\n",
            "Epoch 34/100\n",
            "404/404 [==============================] - 2s 5ms/step - loss: 30.9859 - mae: 3.9262 - val_loss: 29.0413 - val_mae: 3.7379\n",
            "Epoch 35/100\n",
            "404/404 [==============================] - 1s 4ms/step - loss: 30.0544 - mae: 3.8999 - val_loss: 26.5191 - val_mae: 3.8206\n",
            "Epoch 36/100\n",
            "404/404 [==============================] - 1s 3ms/step - loss: 29.7372 - mae: 3.9068 - val_loss: 27.4749 - val_mae: 3.7442\n",
            "Epoch 37/100\n",
            "404/404 [==============================] - 1s 3ms/step - loss: 28.4847 - mae: 3.7328 - val_loss: 26.5598 - val_mae: 3.7448\n",
            "Epoch 38/100\n",
            "404/404 [==============================] - 1s 3ms/step - loss: 28.2688 - mae: 3.7601 - val_loss: 34.8827 - val_mae: 4.9857\n",
            "Epoch 39/100\n",
            "404/404 [==============================] - 1s 3ms/step - loss: 26.9712 - mae: 3.7770 - val_loss: 26.8366 - val_mae: 3.7218\n",
            "Epoch 40/100\n",
            "404/404 [==============================] - 1s 3ms/step - loss: 27.8854 - mae: 3.6470 - val_loss: 25.8333 - val_mae: 3.8225\n",
            "Epoch 41/100\n",
            "404/404 [==============================] - 1s 3ms/step - loss: 26.1948 - mae: 3.5895 - val_loss: 41.8620 - val_mae: 4.6124\n",
            "Epoch 42/100\n",
            "404/404 [==============================] - 1s 3ms/step - loss: 26.4308 - mae: 3.6402 - val_loss: 27.8941 - val_mae: 3.7211\n",
            "Epoch 43/100\n",
            "404/404 [==============================] - 2s 5ms/step - loss: 24.5376 - mae: 3.6060 - val_loss: 27.3528 - val_mae: 3.7287\n",
            "Epoch 44/100\n",
            "404/404 [==============================] - 2s 5ms/step - loss: 26.3915 - mae: 3.6726 - val_loss: 25.0308 - val_mae: 3.6904\n",
            "Epoch 45/100\n",
            "404/404 [==============================] - 1s 3ms/step - loss: 24.5814 - mae: 3.5853 - val_loss: 27.7757 - val_mae: 3.7572\n",
            "Epoch 46/100\n",
            "404/404 [==============================] - 1s 3ms/step - loss: 25.0700 - mae: 3.6187 - val_loss: 27.0218 - val_mae: 4.1557\n",
            "Epoch 47/100\n",
            "404/404 [==============================] - 1s 4ms/step - loss: 22.8300 - mae: 3.4478 - val_loss: 28.0073 - val_mae: 3.7847\n",
            "Epoch 48/100\n",
            "404/404 [==============================] - 1s 3ms/step - loss: 22.7192 - mae: 3.3766 - val_loss: 25.7690 - val_mae: 3.6475\n",
            "Epoch 49/100\n",
            "404/404 [==============================] - 1s 3ms/step - loss: 23.4335 - mae: 3.4715 - val_loss: 27.5103 - val_mae: 3.7589\n",
            "Epoch 50/100\n",
            "404/404 [==============================] - 1s 3ms/step - loss: 21.4873 - mae: 3.2997 - val_loss: 24.3817 - val_mae: 3.6912\n",
            "Epoch 51/100\n",
            "404/404 [==============================] - 1s 3ms/step - loss: 21.7765 - mae: 3.2927 - val_loss: 37.1851 - val_mae: 4.4611\n",
            "Epoch 52/100\n",
            "404/404 [==============================] - 2s 5ms/step - loss: 21.1116 - mae: 3.2931 - val_loss: 29.5280 - val_mae: 3.8663\n",
            "Epoch 53/100\n",
            "404/404 [==============================] - 2s 5ms/step - loss: 21.4531 - mae: 3.2662 - val_loss: 24.3810 - val_mae: 3.6322\n",
            "Epoch 54/100\n",
            "404/404 [==============================] - 1s 3ms/step - loss: 21.2681 - mae: 3.4160 - val_loss: 31.4349 - val_mae: 3.9549\n",
            "Epoch 55/100\n",
            "404/404 [==============================] - 1s 3ms/step - loss: 20.4957 - mae: 3.1936 - val_loss: 36.0866 - val_mae: 4.2237\n",
            "Epoch 56/100\n",
            "404/404 [==============================] - 1s 4ms/step - loss: 20.7351 - mae: 3.4088 - val_loss: 36.3853 - val_mae: 4.2705\n",
            "Epoch 57/100\n",
            "404/404 [==============================] - 1s 3ms/step - loss: 20.7661 - mae: 3.3680 - val_loss: 33.8699 - val_mae: 4.0685\n",
            "Epoch 58/100\n",
            "404/404 [==============================] - 1s 3ms/step - loss: 19.6980 - mae: 3.2085 - val_loss: 29.2738 - val_mae: 3.8434\n",
            "Epoch 59/100\n",
            "404/404 [==============================] - 1s 3ms/step - loss: 20.6025 - mae: 3.2122 - val_loss: 31.7421 - val_mae: 4.3362\n",
            "Epoch 60/100\n",
            "404/404 [==============================] - 1s 3ms/step - loss: 18.8769 - mae: 3.1592 - val_loss: 33.2736 - val_mae: 4.1480\n",
            "Epoch 61/100\n",
            "404/404 [==============================] - 1s 4ms/step - loss: 17.9143 - mae: 3.1012 - val_loss: 26.0268 - val_mae: 3.7575\n",
            "Epoch 62/100\n",
            "404/404 [==============================] - 2s 4ms/step - loss: 19.3183 - mae: 3.0404 - val_loss: 25.8481 - val_mae: 3.5977\n",
            "Epoch 63/100\n",
            "404/404 [==============================] - 1s 3ms/step - loss: 20.0158 - mae: 3.1921 - val_loss: 26.9174 - val_mae: 3.6212\n",
            "Epoch 64/100\n",
            "404/404 [==============================] - 1s 3ms/step - loss: 19.4370 - mae: 3.1280 - val_loss: 28.1099 - val_mae: 3.7374\n",
            "Epoch 65/100\n",
            "404/404 [==============================] - 1s 3ms/step - loss: 19.2839 - mae: 3.0864 - val_loss: 29.5937 - val_mae: 3.8246\n",
            "Epoch 66/100\n",
            "404/404 [==============================] - 1s 3ms/step - loss: 18.7994 - mae: 3.0843 - val_loss: 35.6814 - val_mae: 4.2496\n",
            "Epoch 67/100\n",
            "404/404 [==============================] - 1s 3ms/step - loss: 18.1322 - mae: 3.1117 - val_loss: 30.2796 - val_mae: 3.9095\n",
            "Epoch 68/100\n",
            "404/404 [==============================] - 1s 3ms/step - loss: 17.3559 - mae: 3.1304 - val_loss: 27.6327 - val_mae: 3.6453\n",
            "Epoch 69/100\n",
            "404/404 [==============================] - 1s 3ms/step - loss: 18.4041 - mae: 3.0699 - val_loss: 35.8259 - val_mae: 4.0870\n",
            "Epoch 70/100\n",
            "404/404 [==============================] - 1s 3ms/step - loss: 18.2860 - mae: 3.1172 - val_loss: 28.4158 - val_mae: 3.7086\n",
            "Epoch 71/100\n",
            "404/404 [==============================] - 1s 3ms/step - loss: 17.7463 - mae: 3.1058 - val_loss: 37.2427 - val_mae: 4.4285\n",
            "Epoch 72/100\n",
            "404/404 [==============================] - 2s 5ms/step - loss: 19.3566 - mae: 3.0876 - val_loss: 30.9570 - val_mae: 4.2257\n",
            "Epoch 73/100\n",
            "404/404 [==============================] - 2s 5ms/step - loss: 19.4732 - mae: 3.0919 - val_loss: 28.0372 - val_mae: 3.7616\n",
            "Epoch 74/100\n",
            "404/404 [==============================] - 2s 4ms/step - loss: 18.0848 - mae: 3.0062 - val_loss: 33.7341 - val_mae: 3.9758\n",
            "Epoch 75/100\n",
            "404/404 [==============================] - 2s 4ms/step - loss: 18.2897 - mae: 3.1176 - val_loss: 26.6759 - val_mae: 3.5303\n",
            "Epoch 76/100\n",
            "404/404 [==============================] - 1s 3ms/step - loss: 18.5315 - mae: 3.0232 - val_loss: 37.6644 - val_mae: 4.3605\n",
            "Epoch 77/100\n",
            "404/404 [==============================] - 1s 3ms/step - loss: 17.0534 - mae: 2.9545 - val_loss: 29.2545 - val_mae: 3.7126\n",
            "Epoch 78/100\n",
            "404/404 [==============================] - 1s 3ms/step - loss: 17.4369 - mae: 3.0114 - val_loss: 27.9549 - val_mae: 3.6149\n",
            "Epoch 79/100\n",
            "404/404 [==============================] - 1s 3ms/step - loss: 18.4767 - mae: 3.0348 - val_loss: 38.6378 - val_mae: 4.3566\n",
            "Epoch 80/100\n",
            "404/404 [==============================] - 1s 3ms/step - loss: 17.5147 - mae: 3.0093 - val_loss: 29.1542 - val_mae: 3.7017\n",
            "Epoch 81/100\n",
            "404/404 [==============================] - 2s 4ms/step - loss: 17.0486 - mae: 2.9646 - val_loss: 28.3053 - val_mae: 3.6145\n",
            "Epoch 82/100\n",
            "404/404 [==============================] - 2s 4ms/step - loss: 16.9601 - mae: 3.0336 - val_loss: 29.0225 - val_mae: 3.6688\n",
            "Epoch 83/100\n",
            "404/404 [==============================] - 1s 3ms/step - loss: 17.5737 - mae: 3.0219 - val_loss: 30.0649 - val_mae: 3.6939\n",
            "Epoch 84/100\n",
            "404/404 [==============================] - 1s 3ms/step - loss: 17.9897 - mae: 2.9857 - val_loss: 37.1319 - val_mae: 4.1654\n",
            "Epoch 85/100\n",
            "404/404 [==============================] - 1s 3ms/step - loss: 18.0085 - mae: 3.0197 - val_loss: 28.7073 - val_mae: 3.6660\n",
            "Epoch 86/100\n",
            "404/404 [==============================] - 1s 3ms/step - loss: 17.4002 - mae: 3.0164 - val_loss: 26.9077 - val_mae: 3.6323\n",
            "Epoch 87/100\n",
            "404/404 [==============================] - 1s 3ms/step - loss: 15.9527 - mae: 2.9208 - val_loss: 29.5754 - val_mae: 3.6958\n",
            "Epoch 88/100\n",
            "404/404 [==============================] - 1s 3ms/step - loss: 17.2204 - mae: 3.0336 - val_loss: 28.3579 - val_mae: 3.5468\n",
            "Epoch 89/100\n",
            "404/404 [==============================] - 1s 3ms/step - loss: 16.5778 - mae: 2.9350 - val_loss: 33.3959 - val_mae: 3.8557\n",
            "Epoch 90/100\n",
            "404/404 [==============================] - 1s 3ms/step - loss: 16.3327 - mae: 2.9337 - val_loss: 28.5246 - val_mae: 3.6296\n",
            "Epoch 91/100\n",
            "404/404 [==============================] - 2s 5ms/step - loss: 17.4779 - mae: 2.9793 - val_loss: 30.0108 - val_mae: 3.6823\n",
            "Epoch 92/100\n",
            "404/404 [==============================] - 1s 4ms/step - loss: 17.9227 - mae: 2.9884 - val_loss: 36.7698 - val_mae: 4.1582\n",
            "Epoch 93/100\n",
            "404/404 [==============================] - 1s 3ms/step - loss: 16.2549 - mae: 2.9765 - val_loss: 28.0208 - val_mae: 3.5204\n",
            "Epoch 94/100\n",
            "404/404 [==============================] - 1s 3ms/step - loss: 15.7851 - mae: 2.8495 - val_loss: 38.2921 - val_mae: 4.4254\n",
            "Epoch 95/100\n",
            "404/404 [==============================] - 2s 4ms/step - loss: 17.0459 - mae: 3.0004 - val_loss: 29.4298 - val_mae: 3.6639\n",
            "Epoch 96/100\n",
            "404/404 [==============================] - 1s 3ms/step - loss: 17.3055 - mae: 3.0509 - val_loss: 27.0760 - val_mae: 3.5553\n",
            "Epoch 97/100\n",
            "404/404 [==============================] - 1s 3ms/step - loss: 16.6511 - mae: 2.8347 - val_loss: 28.0552 - val_mae: 3.7579\n",
            "Epoch 98/100\n",
            "404/404 [==============================] - 1s 3ms/step - loss: 15.5523 - mae: 2.9234 - val_loss: 27.6103 - val_mae: 3.5816\n",
            "Epoch 99/100\n",
            "404/404 [==============================] - 1s 3ms/step - loss: 15.4758 - mae: 2.8679 - val_loss: 27.5148 - val_mae: 3.8631\n",
            "Epoch 100/100\n",
            "404/404 [==============================] - 2s 4ms/step - loss: 17.0629 - mae: 2.9764 - val_loss: 28.7569 - val_mae: 3.5995\n"
          ]
        }
      ]
    },
    {
      "cell_type": "code",
      "source": [
        "test = [[0.02675675, 0.        , 0.02677953, 0.        , 0.0010046 ,\n",
        "        0.00951931, 0.14795322, 0.0027145 , 0.03550877, 0.98536841,\n",
        "        0.02988655, 0.04031725, 0.04298041]]\n",
        "print(\"Actual Output: \", train_y[0])\n",
        "print(\"Predicted Output: \", model.predict(test))"
      ],
      "metadata": {
        "id": "PSXdR_o98HSX",
        "outputId": "73fef274-02a7-4656-957e-b9795b0e8caa",
        "colab": {
          "base_uri": "https://localhost:8080/"
        }
      },
      "execution_count": 29,
      "outputs": [
        {
          "output_type": "stream",
          "name": "stdout",
          "text": [
            "Actual Output:  15.2\n",
            "1/1 [==============================] - 0s 48ms/step\n",
            "Predicted Output:  [[9.479875]]\n"
          ]
        }
      ]
    }
  ],
  "metadata": {
    "colab": {
      "name": "Welcome To Colab",
      "toc_visible": true,
      "provenance": [],
      "include_colab_link": true
    },
    "kernelspec": {
      "display_name": "Python 3",
      "name": "python3"
    }
  },
  "nbformat": 4,
  "nbformat_minor": 0
}