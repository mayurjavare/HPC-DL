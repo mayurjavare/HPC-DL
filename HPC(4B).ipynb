{
  "nbformat": 4,
  "nbformat_minor": 0,
  "metadata": {
    "colab": {
      "provenance": [],
      "authorship_tag": "ABX9TyPcMGGbUUEH30/CanJR1qTI",
      "include_colab_link": true
    },
    "kernelspec": {
      "name": "python3",
      "display_name": "Python 3"
    },
    "language_info": {
      "name": "python"
    }
  },
  "cells": [
    {
      "cell_type": "markdown",
      "metadata": {
        "id": "view-in-github",
        "colab_type": "text"
      },
      "source": [
        "<a href=\"https://colab.research.google.com/github/mayurjavare/HPC-DL/blob/main/HPC(4B).ipynb\" target=\"_parent\"><img src=\"https://colab.research.google.com/assets/colab-badge.svg\" alt=\"Open In Colab\"/></a>"
      ]
    },
    {
      "cell_type": "code",
      "execution_count": 1,
      "metadata": {
        "colab": {
          "base_uri": "https://localhost:8080/"
        },
        "id": "APQqx2iJG2PA",
        "outputId": "a0148076-7f85-4566-8e3a-fe37b83d7617"
      },
      "outputs": [
        {
          "output_type": "stream",
          "name": "stdout",
          "text": [
            "Collecting git+https://github.com/andreinechaev/nvcc4jupyter.git\n",
            "  Cloning https://github.com/andreinechaev/nvcc4jupyter.git to /tmp/pip-req-build-1mhsg1u3\n",
            "  Running command git clone --filter=blob:none --quiet https://github.com/andreinechaev/nvcc4jupyter.git /tmp/pip-req-build-1mhsg1u3\n",
            "  Resolved https://github.com/andreinechaev/nvcc4jupyter.git to commit 5741c522547756ac4bb7a16df32106a15efb8a57\n",
            "  Installing build dependencies ... \u001b[?25l\u001b[?25hdone\n",
            "  Getting requirements to build wheel ... \u001b[?25l\u001b[?25hdone\n",
            "  Preparing metadata (pyproject.toml) ... \u001b[?25l\u001b[?25hdone\n",
            "Building wheels for collected packages: nvcc4jupyter\n",
            "  Building wheel for nvcc4jupyter (pyproject.toml) ... \u001b[?25l\u001b[?25hdone\n",
            "  Created wheel for nvcc4jupyter: filename=nvcc4jupyter-1.2.1-py3-none-any.whl size=10741 sha256=1c43b610d84440f376c57bb0b3d20f87e2433fdb6f06eb98d5fd7c81c461a971\n",
            "  Stored in directory: /tmp/pip-ephem-wheel-cache-8pkqs7_w/wheels/a8/b9/18/23f8ef71ceb0f63297dd1903aedd067e6243a68ea756d6feea\n",
            "Successfully built nvcc4jupyter\n",
            "Installing collected packages: nvcc4jupyter\n",
            "Successfully installed nvcc4jupyter-1.2.1\n"
          ]
        }
      ],
      "source": [
        "!pip install git+https://github.com/andreinechaev/nvcc4jupyter.git"
      ]
    },
    {
      "cell_type": "code",
      "source": [
        "!nvcc --version"
      ],
      "metadata": {
        "colab": {
          "base_uri": "https://localhost:8080/"
        },
        "id": "kU6L9287G9ql",
        "outputId": "a4bedf49-6e1c-4c89-fac6-151eb688e5c1"
      },
      "execution_count": 2,
      "outputs": [
        {
          "output_type": "stream",
          "name": "stdout",
          "text": [
            "nvcc: NVIDIA (R) Cuda compiler driver\n",
            "Copyright (c) 2005-2023 NVIDIA Corporation\n",
            "Built on Tue_Aug_15_22:02:13_PDT_2023\n",
            "Cuda compilation tools, release 12.2, V12.2.140\n",
            "Build cuda_12.2.r12.2/compiler.33191640_0\n"
          ]
        }
      ]
    },
    {
      "cell_type": "code",
      "source": [
        "pip install nvcc4jupyter"
      ],
      "metadata": {
        "colab": {
          "base_uri": "https://localhost:8080/"
        },
        "id": "TkQpj7ZyHIe4",
        "outputId": "80a58388-462b-47c7-c6ef-0a2956604f34"
      },
      "execution_count": 3,
      "outputs": [
        {
          "output_type": "stream",
          "name": "stdout",
          "text": [
            "Requirement already satisfied: nvcc4jupyter in /usr/local/lib/python3.10/dist-packages (1.2.1)\n"
          ]
        }
      ]
    },
    {
      "cell_type": "code",
      "source": [
        "%load_ext nvcc4jupyter"
      ],
      "metadata": {
        "colab": {
          "base_uri": "https://localhost:8080/"
        },
        "id": "G8Gr6IluHKp5",
        "outputId": "31b669cc-0b26-43fc-feb6-dd82247226fa"
      },
      "execution_count": 4,
      "outputs": [
        {
          "output_type": "stream",
          "name": "stdout",
          "text": [
            "Detected platform \"Colab\". Running its setup...\n",
            "Source files will be saved in \"/tmp/tmp9uiic_o0\".\n"
          ]
        }
      ]
    },
    {
      "cell_type": "code",
      "source": [],
      "metadata": {
        "id": "S0_GvF88HM6l"
      },
      "execution_count": 4,
      "outputs": []
    },
    {
      "cell_type": "code",
      "source": [
        "%%cuda\n",
        "#include <stdio.h>\n",
        "\n",
        "#include <stdlib.h>\n",
        "\n",
        "#include <time.h>\n",
        "\n",
        "#include <cuda.h>\n",
        "\n",
        "#define BLOCK_SIZE 16\n",
        "\n",
        "__global__ void gpu_matrix_mult(int *a,int *b, int *c, int n)\n",
        "\n",
        "{\n",
        "\n",
        "int row = blockIdx.y * blockDim.y + threadIdx.y;\n",
        "\n",
        "int col = blockIdx.x * blockDim.x + threadIdx.x;\n",
        "\n",
        "int sum = 0;\n",
        "\n",
        "if( col < n && row < n)\n",
        "\n",
        "{\n",
        "\n",
        "for(int i = 0; i < n; i++)\n",
        "\n",
        "{\n",
        "\n",
        "sum += a[row * n + i] * b[i * n + col];\n",
        "\n",
        "}\n",
        "\n",
        "c[row * n + col] = sum;\n",
        "\n",
        "}\n",
        "\n",
        "}\n",
        "\n",
        "int main(int argc, char const *argv[])\n",
        "\n",
        "{\n",
        "\n",
        "int n;\n",
        "\n",
        "for(n = 64; n <=8192 ; n *= 2) {\n",
        "\n",
        "// allocate memory in host RAM, h_cc is used to store CPU result\n",
        "\n",
        "int *h_a, *h_b, *h_c, *h_cc;\n",
        "\n",
        "cudaMallocHost((void **) &h_a, sizeof(int)*n*n);\n",
        "\n",
        "cudaMallocHost((void **) &h_b, sizeof(int)*n*n);\n",
        "\n",
        "cudaMallocHost((void **) &h_c, sizeof(int)*n*n);\n",
        "\n",
        "// initialize matrix A\n",
        "\n",
        "for (int i = 0; i < n; ++i) {\n",
        "\n",
        "for (int j = 0; j < n; ++j) {\n",
        "\n",
        "h_a[i * n + j] = 2;\n",
        "\n",
        "}\n",
        "\n",
        "}\n",
        "\n",
        "// initialize matrix B\n",
        "\n",
        "for (int i = 0; i < n; ++i) {\n",
        "\n",
        "for (int j = 0; j < n; ++j) {\n",
        "\n",
        "h_b[i * n + j] = 3;\n",
        "\n",
        "}\n",
        "\n",
        "}\n",
        "\n",
        "float naive_gpu_elapsed_time_ms;\n",
        "\n",
        "// some events to count the execution time\n",
        "\n",
        "//clock_t st, end;\n",
        "\n",
        "cudaEvent_t start, stop;\n",
        "\n",
        "cudaEventCreate(&start);\n",
        "\n",
        "cudaEventCreate(&stop);\n",
        "\n",
        "// Allocate memory space on the device\n",
        "\n",
        "int *d_a, *d_b, *d_c;\n",
        "\n",
        "cudaMalloc((void **) &d_a, sizeof(int)*n*n);\n",
        "\n",
        "cudaMalloc((void **) &d_b, sizeof(int)*n*n);\n",
        "\n",
        "cudaMalloc((void **) &d_c, sizeof(int)*n*n);\n",
        "\n",
        "// copy matrix A and B from host to device memory\n",
        "\n",
        "cudaMemcpy(d_a, h_a, sizeof(int)*n*n, cudaMemcpyHostToDevice);\n",
        "\n",
        "cudaMemcpy(d_b, h_b, sizeof(int)*n*n, cudaMemcpyHostToDevice);\n",
        "\n",
        "unsigned int grid_rows = (n + BLOCK_SIZE - 1) / BLOCK_SIZE;\n",
        "\n",
        "unsigned int grid_cols = (n + BLOCK_SIZE - 1) / BLOCK_SIZE;\n",
        "\n",
        "dim3 dimGrid(grid_cols, grid_rows);\n",
        "\n",
        "dim3 dimBlock(BLOCK_SIZE, BLOCK_SIZE);\n",
        "\n",
        "cudaEventRecord(start, 0);\n",
        "\n",
        "gpu_matrix_mult<<<dimGrid, dimBlock>>>(d_a, d_b, d_c, n);\n",
        "\n",
        "cudaThreadSynchronize();\n",
        "\n",
        "// time counting terminate\n",
        "\n",
        "cudaEventRecord(stop, 0);\n",
        "\n",
        "cudaEventSynchronize(stop);\n",
        "\n",
        "// Transfer results from device to host\n",
        "\n",
        "cudaMemcpy(h_cc, d_c, sizeof(int)*n*n, cudaMemcpyDeviceToHost);\n",
        "\n",
        "// compute time elapsed on GPU computing\n",
        "\n",
        "cudaEventElapsedTime(&naive_gpu_elapsed_time_ms, start, stop);\n",
        "\n",
        "printf(\"Time elapsed on naive GPU matrix multiplication of %dx%d . %dx%d : %f ms.\\n\\n\", n, n, n, n, naive_gpu_elapsed_time_ms);\n",
        "\n",
        "// free memory\n",
        "\n",
        "cudaFree(d_a);\n",
        "\n",
        "cudaFree(d_b);\n",
        "\n",
        "cudaFree(d_c);\n",
        "\n",
        "\n",
        "\n",
        "}\n",
        "\n",
        "return 0;\n",
        "\n",
        "}"
      ],
      "metadata": {
        "colab": {
          "base_uri": "https://localhost:8080/"
        },
        "id": "DyUnnMJiHOj0",
        "outputId": "a9c7ba14-bb9a-4cf6-b3e3-2203f95aeeda"
      },
      "execution_count": 6,
      "outputs": [
        {
          "output_type": "stream",
          "name": "stdout",
          "text": [
            "\n"
          ]
        }
      ]
    }
  ]
}